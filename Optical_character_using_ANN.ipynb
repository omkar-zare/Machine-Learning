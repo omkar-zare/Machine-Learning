{
 "cells": [
  {
   "cell_type": "code",
   "execution_count": 1,
   "metadata": {},
   "outputs": [],
   "source": [
    "# importing libraries\n",
    "import pandas as pd\n",
    "import numpy as np\n",
    "import matplotlib.pyplot as plt\n",
    "import tensorflow as tf\n",
    "from tensorflow import keras"
   ]
  },
  {
   "cell_type": "code",
   "execution_count": 2,
   "metadata": {},
   "outputs": [
    {
     "name": "stdout",
     "output_type": "stream",
     "text": [
      "Downloading data from https://storage.googleapis.com/tensorflow/tf-keras-datasets/mnist.npz\n",
      "11493376/11490434 [==============================] - 2s 0us/step\n",
      "11501568/11490434 [==============================] - 2s 0us/step\n"
     ]
    },
    {
     "data": {
      "text/plain": [
       "(60000, 28, 28)"
      ]
     },
     "execution_count": 2,
     "metadata": {},
     "output_type": "execute_result"
    }
   ],
   "source": [
    "# importing dataset\n",
    "digit_mnist = keras.datasets.mnist\n",
    "(x_train_full, y_train_full), (x_test, y_test) = digit_mnist.load_data()\n",
    "x_train_full.shape"
   ]
  },
  {
   "cell_type": "code",
   "execution_count": 3,
   "metadata": {},
   "outputs": [
    {
     "data": {
      "text/plain": [
       "<matplotlib.image.AxesImage at 0x2457dbcdff0>"
      ]
     },
     "execution_count": 3,
     "metadata": {},
     "output_type": "execute_result"
    },
    {
     "data": {
      "image/png": "[encoded data removed]",
      "text/plain": [
       "<Figure size 432x288 with 1 Axes>"
      ]
     },
     "metadata": {
      "needs_background": "light"
     },
     "output_type": "display_data"
    }
   ],
   "source": [
    "plt.imshow(x_train_full[0])"
   ]
  },
  {
   "cell_type": "code",
   "execution_count": 4,
   "metadata": {},
   "outputs": [],
   "source": [
    "# feature scaling\n",
    "x_train_n = x_train_full / 255.\n",
    "x_test_n = x_test / 255."
   ]
  },
  {
   "cell_type": "code",
   "execution_count": 5,
   "metadata": {},
   "outputs": [],
   "source": [
    "# Train_Valid_Test Split\n",
    "x_valid, x_train = x_train_n[:6000],x_train_n[6000:]\n",
    "y_valid, y_train = y_train_full[:6000],y_train_full[6000:]\n",
    "x_test = x_test_n\n",
    "np.random.seed(42)\n",
    "tf.random.set_seed(42)"
   ]
  },
  {
   "cell_type": "code",
   "execution_count": 6,
   "metadata": {},
   "outputs": [
    {
     "name": "stdout",
     "output_type": "stream",
     "text": [
      "Epoch 1/60\n",
      "1688/1688 [==============================] - 5s 2ms/step - loss: 0.6607 - accuracy: 0.8267 - val_loss: 0.3216 - val_accuracy: 0.9125\n",
      "Epoch 2/60\n",
      "1688/1688 [==============================] - 3s 2ms/step - loss: 0.3006 - accuracy: 0.9141 - val_loss: 0.2585 - val_accuracy: 0.9285\n",
      "Epoch 3/60\n",
      "1688/1688 [==============================] - 3s 2ms/step - loss: 0.2488 - accuracy: 0.9292 - val_loss: 0.2254 - val_accuracy: 0.9387\n",
      "Epoch 4/60\n",
      "1688/1688 [==============================] - 4s 2ms/step - loss: 0.2151 - accuracy: 0.9389 - val_loss: 0.1962 - val_accuracy: 0.9442\n",
      "Epoch 5/60\n",
      "1688/1688 [==============================] - 4s 2ms/step - loss: 0.1893 - accuracy: 0.9461 - val_loss: 0.1790 - val_accuracy: 0.9483\n",
      "Epoch 6/60\n",
      "1688/1688 [==============================] - 4s 2ms/step - loss: 0.1690 - accuracy: 0.9517 - val_loss: 0.1636 - val_accuracy: 0.9522\n",
      "Epoch 7/60\n",
      "1688/1688 [==============================] - 4s 3ms/step - loss: 0.1521 - accuracy: 0.9570 - val_loss: 0.1482 - val_accuracy: 0.9592\n",
      "Epoch 8/60\n",
      "1688/1688 [==============================] - 4s 3ms/step - loss: 0.1378 - accuracy: 0.9611 - val_loss: 0.1416 - val_accuracy: 0.9605\n",
      "Epoch 9/60\n",
      "1688/1688 [==============================] - 3s 2ms/step - loss: 0.1260 - accuracy: 0.9643 - val_loss: 0.1315 - val_accuracy: 0.9648\n",
      "Epoch 10/60\n",
      "1688/1688 [==============================] - 4s 2ms/step - loss: 0.1157 - accuracy: 0.9673 - val_loss: 0.1273 - val_accuracy: 0.9637\n",
      "Epoch 11/60\n",
      "1688/1688 [==============================] - 4s 3ms/step - loss: 0.1066 - accuracy: 0.9698 - val_loss: 0.1158 - val_accuracy: 0.9678\n",
      "Epoch 12/60\n",
      "1688/1688 [==============================] - 4s 2ms/step - loss: 0.0991 - accuracy: 0.9723 - val_loss: 0.1117 - val_accuracy: 0.9700\n",
      "Epoch 13/60\n",
      "1688/1688 [==============================] - 4s 3ms/step - loss: 0.0917 - accuracy: 0.9746 - val_loss: 0.1058 - val_accuracy: 0.9713\n",
      "Epoch 14/60\n",
      "1688/1688 [==============================] - 3s 2ms/step - loss: 0.0857 - accuracy: 0.9767 - val_loss: 0.1005 - val_accuracy: 0.9722\n",
      "Epoch 15/60\n",
      "1688/1688 [==============================] - 4s 2ms/step - loss: 0.0801 - accuracy: 0.9777 - val_loss: 0.0991 - val_accuracy: 0.9720\n",
      "Epoch 16/60\n",
      "1688/1688 [==============================] - 4s 2ms/step - loss: 0.0752 - accuracy: 0.9793 - val_loss: 0.0945 - val_accuracy: 0.9725\n",
      "Epoch 17/60\n",
      "1688/1688 [==============================] - 4s 3ms/step - loss: 0.0707 - accuracy: 0.9809 - val_loss: 0.0935 - val_accuracy: 0.9727\n",
      "Epoch 18/60\n",
      "1688/1688 [==============================] - 4s 2ms/step - loss: 0.0659 - accuracy: 0.9819 - val_loss: 0.0894 - val_accuracy: 0.9753\n",
      "Epoch 19/60\n",
      "1688/1688 [==============================] - 4s 2ms/step - loss: 0.0624 - accuracy: 0.9830 - val_loss: 0.0893 - val_accuracy: 0.9735\n",
      "Epoch 20/60\n",
      "1688/1688 [==============================] - 4s 2ms/step - loss: 0.0587 - accuracy: 0.9840 - val_loss: 0.0874 - val_accuracy: 0.9748\n",
      "Epoch 21/60\n",
      "1688/1688 [==============================] - 4s 3ms/step - loss: 0.0555 - accuracy: 0.9850 - val_loss: 0.0864 - val_accuracy: 0.9757\n",
      "Epoch 22/60\n",
      "1688/1688 [==============================] - 4s 2ms/step - loss: 0.0525 - accuracy: 0.9860 - val_loss: 0.0837 - val_accuracy: 0.9762\n",
      "Epoch 23/60\n",
      "1688/1688 [==============================] - 4s 2ms/step - loss: 0.0496 - accuracy: 0.9865 - val_loss: 0.0830 - val_accuracy: 0.9765\n",
      "Epoch 24/60\n",
      "1688/1688 [==============================] - 4s 2ms/step - loss: 0.0468 - accuracy: 0.9873 - val_loss: 0.0823 - val_accuracy: 0.9758\n",
      "Epoch 25/60\n",
      "1688/1688 [==============================] - 4s 2ms/step - loss: 0.0443 - accuracy: 0.9885 - val_loss: 0.0832 - val_accuracy: 0.9747\n",
      "Epoch 26/60\n",
      "1688/1688 [==============================] - 4s 2ms/step - loss: 0.0420 - accuracy: 0.9888 - val_loss: 0.0810 - val_accuracy: 0.9768\n",
      "Epoch 27/60\n",
      "1688/1688 [==============================] - 4s 2ms/step - loss: 0.0398 - accuracy: 0.9892 - val_loss: 0.0771 - val_accuracy: 0.9775\n",
      "Epoch 28/60\n",
      "1688/1688 [==============================] - 5s 3ms/step - loss: 0.0378 - accuracy: 0.9902 - val_loss: 0.0776 - val_accuracy: 0.9772\n",
      "Epoch 29/60\n",
      "1688/1688 [==============================] - 4s 3ms/step - loss: 0.0358 - accuracy: 0.9906 - val_loss: 0.0760 - val_accuracy: 0.9777\n",
      "Epoch 30/60\n",
      "1688/1688 [==============================] - 4s 3ms/step - loss: 0.0338 - accuracy: 0.9916 - val_loss: 0.0785 - val_accuracy: 0.9767\n",
      "Epoch 31/60\n",
      "1688/1688 [==============================] - 4s 3ms/step - loss: 0.0322 - accuracy: 0.9920 - val_loss: 0.0755 - val_accuracy: 0.9778\n",
      "Epoch 32/60\n",
      "1688/1688 [==============================] - 4s 3ms/step - loss: 0.0304 - accuracy: 0.9927 - val_loss: 0.0773 - val_accuracy: 0.9782\n",
      "Epoch 33/60\n",
      "1688/1688 [==============================] - 3s 2ms/step - loss: 0.0289 - accuracy: 0.9931 - val_loss: 0.0765 - val_accuracy: 0.9777\n",
      "Epoch 34/60\n",
      "1688/1688 [==============================] - 3s 2ms/step - loss: 0.0274 - accuracy: 0.9938 - val_loss: 0.0763 - val_accuracy: 0.9778\n",
      "Epoch 35/60\n",
      "1688/1688 [==============================] - 3s 2ms/step - loss: 0.0260 - accuracy: 0.9942 - val_loss: 0.0748 - val_accuracy: 0.9785\n",
      "Epoch 36/60\n",
      "1688/1688 [==============================] - 3s 2ms/step - loss: 0.0246 - accuracy: 0.9947 - val_loss: 0.0796 - val_accuracy: 0.9768\n",
      "Epoch 37/60\n",
      "1688/1688 [==============================] - 3s 2ms/step - loss: 0.0237 - accuracy: 0.9945 - val_loss: 0.0756 - val_accuracy: 0.9782\n",
      "Epoch 38/60\n",
      "1688/1688 [==============================] - 3s 2ms/step - loss: 0.0223 - accuracy: 0.9954 - val_loss: 0.0757 - val_accuracy: 0.9783\n",
      "Epoch 39/60\n",
      "1688/1688 [==============================] - 4s 2ms/step - loss: 0.0212 - accuracy: 0.9958 - val_loss: 0.0751 - val_accuracy: 0.9783\n",
      "Epoch 40/60\n",
      "1688/1688 [==============================] - 4s 2ms/step - loss: 0.0202 - accuracy: 0.9961 - val_loss: 0.0756 - val_accuracy: 0.9785\n",
      "Epoch 41/60\n",
      "1688/1688 [==============================] - 4s 2ms/step - loss: 0.0191 - accuracy: 0.9967 - val_loss: 0.0753 - val_accuracy: 0.9782\n",
      "Epoch 42/60\n",
      "1688/1688 [==============================] - 4s 2ms/step - loss: 0.0183 - accuracy: 0.9970 - val_loss: 0.0768 - val_accuracy: 0.9778\n",
      "Epoch 43/60\n",
      "1688/1688 [==============================] - 4s 2ms/step - loss: 0.0174 - accuracy: 0.9971 - val_loss: 0.0818 - val_accuracy: 0.9767\n",
      "Epoch 44/60\n",
      "1688/1688 [==============================] - 4s 2ms/step - loss: 0.0166 - accuracy: 0.9972 - val_loss: 0.0754 - val_accuracy: 0.9790\n",
      "Epoch 45/60\n",
      "1688/1688 [==============================] - 4s 2ms/step - loss: 0.0157 - accuracy: 0.9977 - val_loss: 0.0755 - val_accuracy: 0.9780\n",
      "Epoch 46/60\n",
      "1688/1688 [==============================] - 4s 2ms/step - loss: 0.0150 - accuracy: 0.9980 - val_loss: 0.0760 - val_accuracy: 0.9785\n",
      "Epoch 47/60\n",
      "1688/1688 [==============================] - 4s 2ms/step - loss: 0.0143 - accuracy: 0.9980 - val_loss: 0.0764 - val_accuracy: 0.9782\n",
      "Epoch 48/60\n",
      "1688/1688 [==============================] - 4s 2ms/step - loss: 0.0137 - accuracy: 0.9983 - val_loss: 0.0767 - val_accuracy: 0.9775\n",
      "Epoch 49/60\n",
      "1688/1688 [==============================] - 4s 3ms/step - loss: 0.0130 - accuracy: 0.9983 - val_loss: 0.0775 - val_accuracy: 0.9775\n",
      "Epoch 50/60\n",
      "1688/1688 [==============================] - 4s 3ms/step - loss: 0.0124 - accuracy: 0.9986 - val_loss: 0.0788 - val_accuracy: 0.9777\n",
      "Epoch 51/60\n",
      "1688/1688 [==============================] - 4s 2ms/step - loss: 0.0119 - accuracy: 0.9986 - val_loss: 0.0767 - val_accuracy: 0.9782\n",
      "Epoch 52/60\n",
      "1688/1688 [==============================] - 4s 2ms/step - loss: 0.0114 - accuracy: 0.9988 - val_loss: 0.0761 - val_accuracy: 0.9785\n",
      "Epoch 53/60\n",
      "1688/1688 [==============================] - 4s 3ms/step - loss: 0.0109 - accuracy: 0.9988 - val_loss: 0.0779 - val_accuracy: 0.9783\n",
      "Epoch 54/60\n",
      "1688/1688 [==============================] - 4s 3ms/step - loss: 0.0105 - accuracy: 0.9989 - val_loss: 0.0760 - val_accuracy: 0.9790\n",
      "Epoch 55/60\n",
      "1688/1688 [==============================] - 4s 2ms/step - loss: 0.0100 - accuracy: 0.9990 - val_loss: 0.0778 - val_accuracy: 0.9778\n",
      "Epoch 56/60\n",
      "1688/1688 [==============================] - 4s 3ms/step - loss: 0.0095 - accuracy: 0.9991 - val_loss: 0.0787 - val_accuracy: 0.9782\n",
      "Epoch 57/60\n",
      "1688/1688 [==============================] - 4s 3ms/step - loss: 0.0091 - accuracy: 0.9993 - val_loss: 0.0792 - val_accuracy: 0.9783\n",
      "Epoch 58/60\n",
      "1688/1688 [==============================] - 4s 3ms/step - loss: 0.0088 - accuracy: 0.9992 - val_loss: 0.0774 - val_accuracy: 0.9780\n",
      "Epoch 59/60\n",
      "1688/1688 [==============================] - 4s 3ms/step - loss: 0.0084 - accuracy: 0.9993 - val_loss: 0.0797 - val_accuracy: 0.9777\n",
      "Epoch 60/60\n",
      "1688/1688 [==============================] - 4s 2ms/step - loss: 0.0081 - accuracy: 0.9994 - val_loss: 0.0803 - val_accuracy: 0.9785\n"
     ]
    }
   ],
   "source": [
    "#Model Building\n",
    "model = keras.models.Sequential()\n",
    "model.add(keras.layers.Flatten(input_shape=[28,28]))\n",
    "model.add(keras.layers.Dense(200,activation='relu'))\n",
    "model.add(keras.layers.Dense(100,activation='relu'))\n",
    "model.add(keras.layers.Dense(10,activation='softmax'))\n",
    "model.compile(loss='sparse_categorical_crossentropy',\n",
    "metrics=['accuracy'],\n",
    "optimizer = 'sgd')\n",
    "# model training\n",
    "model_r = model.fit(x_train,y_train,epochs=60,\n",
    "validation_data=(x_valid,y_valid))"
   ]
  },
  {
   "cell_type": "code",
   "execution_count": 7,
   "metadata": {},
   "outputs": [
    {
     "name": "stdout",
     "output_type": "stream",
     "text": [
      "313/313 [==============================] - 1s 2ms/step - loss: 0.0739 - accuracy: 0.9796\n"
     ]
    },
    {
     "data": {
      "text/plain": [
       "[0.07394343614578247, 0.9796000123023987]"
      ]
     },
     "execution_count": 7,
     "metadata": {},
     "output_type": "execute_result"
    }
   ],
   "source": [
    "model.evaluate(x_test,y_test)"
   ]
  },
  {
   "cell_type": "code",
   "execution_count": 8,
   "metadata": {},
   "outputs": [
    {
     "data": {
      "image/png": "[encoded data removed]",
      "text/plain": [
       "<Figure size 576x360 with 1 Axes>"
      ]
     },
     "metadata": {
      "needs_background": "light"
     },
     "output_type": "display_data"
    }
   ],
   "source": [
    "# Val-loss\n",
    "pd.DataFrame(model_r.history).plot(figsize=(8,5))\n",
    "plt.grid(True)\n",
    "plt.gca().set_ylim(0,1)\n",
    "plt.show()"
   ]
  },
  {
   "cell_type": "code",
   "execution_count": 9,
   "metadata": {},
   "outputs": [
    {
     "data": {
      "text/plain": [
       "array([[0., 0., 0., 0., 0., 0., 0., 1., 0., 0.],\n",
       "       [0., 0., 1., 0., 0., 0., 0., 0., 0., 0.],\n",
       "       [0., 1., 0., 0., 0., 0., 0., 0., 0., 0.],\n",
       "       [1., 0., 0., 0., 0., 0., 0., 0., 0., 0.],\n",
       "       [0., 0., 0., 0., 1., 0., 0., 0., 0., 0.]], dtype=float32)"
      ]
     },
     "execution_count": 9,
     "metadata": {},
     "output_type": "execute_result"
    }
   ],
   "source": [
    "# predicting first five Digits\n",
    "x_new=x_test[:5]\n",
    "y_proba = model.predict(x_new)\n",
    "y_proba.round(2)"
   ]
  },
  {
   "cell_type": "code",
   "execution_count": 10,
   "metadata": {},
   "outputs": [
    {
     "data": {
      "text/plain": [
       "array([7, 2, 1, 0, 4], dtype=int64)"
      ]
     },
     "execution_count": 10,
     "metadata": {},
     "output_type": "execute_result"
    }
   ],
   "source": [
    "predict_x = model.predict(x_new)\n",
    "classes_x=np.argmax(predict_x,axis=1)\n",
    "# Output\n",
    "classes_x"
   ]
  }
 ],
 "metadata": {
  "interpreter": {
   "hash": "55b33c48810e8aeffb418dda8cff3d29991e7d872cd272f1f461f83c11fe6d68"
  },
  "kernelspec": {
   "display_name": "Python 3.10.2 64-bit",
   "language": "python",
   "name": "python3"
  },
  "language_info": {
   "codemirror_mode": {
    "name": "ipython",
    "version": 3
   },
   "file_extension": ".py",
   "mimetype": "text/x-python",
   "name": "python",
   "nbconvert_exporter": "python",
   "pygments_lexer": "ipython3",
   "version": "3.10.2"
  },
  "orig_nbformat": 4
 },
 "nbformat": 4,
 "nbformat_minor": 2
}
